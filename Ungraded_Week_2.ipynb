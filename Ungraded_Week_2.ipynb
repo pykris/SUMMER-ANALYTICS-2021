{
  "nbformat": 4,
  "nbformat_minor": 0,
  "metadata": {
    "colab": {
      "name": "Ungraded Week 2.ipynb",
      "provenance": [],
      "collapsed_sections": [],
      "include_colab_link": true
    },
    "kernelspec": {
      "display_name": "Python 3",
      "language": "python",
      "name": "python3"
    },
    "language_info": {
      "codemirror_mode": {
        "name": "ipython",
        "version": 3
      },
      "file_extension": ".py",
      "mimetype": "text/x-python",
      "name": "python",
      "nbconvert_exporter": "python",
      "pygments_lexer": "ipython3",
      "version": "3.7.6"
    }
  },
  "cells": [
    {
      "cell_type": "markdown",
      "metadata": {
        "id": "view-in-github",
        "colab_type": "text"
      },
      "source": [
        "<a href=\"https://colab.research.google.com/github/pykris/SUMMER-ANALYTICS-2021/blob/main/Ungraded_Week_2.ipynb\" target=\"_parent\"><img src=\"https://colab.research.google.com/assets/colab-badge.svg\" alt=\"Open In Colab\"/></a>"
      ]
    },
    {
      "cell_type": "markdown",
      "metadata": {
        "id": "5vJT2o70xl7c"
      },
      "source": [
        "# WEEK 2 Ungraded Assignment"
      ]
    },
    {
      "cell_type": "code",
      "metadata": {
        "id": "q5RCysOH9jUp"
      },
      "source": [
        "import numpy as np\n",
        "import pandas as pd\n",
        "import matplotlib.pyplot as plt\n",
        "import seaborn as sns\n",
        "pd.set_option('display.max_columns', None)"
      ],
      "execution_count": 40,
      "outputs": []
    },
    {
      "cell_type": "markdown",
      "metadata": {
        "id": "rVRV4pYw9jUt"
      },
      "source": [
        "It is highly recommended to read the documentation before implementing any alogorithm.\n",
        "\n",
        "LINEAR REGRESSION : \n",
        "https://scikit-learn.org/stable/modules/generated/sklearn.linear_model.LinearRegression.html <br>\n",
        "LOGISTIC REGRESSION :\n",
        "https://scikit-learn.org/stable/modules/generated/sklearn.linear_model.LogisticRegression.html<br>\n",
        "\n",
        "METRICS:<br>\n",
        "Mean Squared Error : http://scikit-learn.org/stable/modules/generated/sklearn.metrics.mean_squared_error.html<br>\n",
        "Mean Absolute Error : http://scikit-learn.org/stable/modules/generated/sklearn.metrics.mean_absolute_error.html<br>\n",
        "Accuracy Score : https://scikit-learn.org/stable/modules/generated/sklearn.metrics.accuracy_score.html<br>"
      ]
    },
    {
      "cell_type": "markdown",
      "metadata": {
        "id": "_lclLEtp9jUu"
      },
      "source": [
        "####  IMPORTING THE DATA"
      ]
    },
    {
      "cell_type": "code",
      "metadata": {
        "id": "JRV20Tv-9jUu"
      },
      "source": [
        "# Import the file AS 'data'\n",
        "# Start code\n",
        "data = pd.read_csv('https://raw.githubusercontent.com/pykris/SUMMER-ANALYTICS-2021/main/data/cars_data.csv')\n",
        "# End code"
      ],
      "execution_count": 41,
      "outputs": []
    },
    {
      "cell_type": "code",
      "metadata": {
        "id": "fmude2rPzgyy",
        "scrolled": false,
        "colab": {
          "base_uri": "https://localhost:8080/",
          "height": 241
        },
        "outputId": "998dd5b8-8b4e-41d9-9758-d64b0d71e306"
      },
      "source": [
        "# VIEWING THE DATA ONCE ( Use .head() )\n",
        "# Start code\n",
        "data.head()\n",
        "# End code"
      ],
      "execution_count": 42,
      "outputs": [
        {
          "output_type": "execute_result",
          "data": {
            "text/html": [
              "<div>\n",
              "<style scoped>\n",
              "    .dataframe tbody tr th:only-of-type {\n",
              "        vertical-align: middle;\n",
              "    }\n",
              "\n",
              "    .dataframe tbody tr th {\n",
              "        vertical-align: top;\n",
              "    }\n",
              "\n",
              "    .dataframe thead th {\n",
              "        text-align: right;\n",
              "    }\n",
              "</style>\n",
              "<table border=\"1\" class=\"dataframe\">\n",
              "  <thead>\n",
              "    <tr style=\"text-align: right;\">\n",
              "      <th></th>\n",
              "      <th>price</th>\n",
              "      <th>year</th>\n",
              "      <th>mileage</th>\n",
              "      <th>AGE_IN_YEARS</th>\n",
              "      <th>chevrolet</th>\n",
              "      <th>dodge</th>\n",
              "      <th>gmc</th>\n",
              "      <th>jeep</th>\n",
              "      <th>nissan</th>\n",
              "      <th>salvage insurance</th>\n",
              "      <th>black</th>\n",
              "      <th>blue</th>\n",
              "      <th>gray</th>\n",
              "      <th>no_color</th>\n",
              "      <th>silver</th>\n",
              "      <th>white</th>\n",
              "      <th>Goa</th>\n",
              "      <th>MP</th>\n",
              "      <th>Maharashtra</th>\n",
              "      <th>UP</th>\n",
              "    </tr>\n",
              "  </thead>\n",
              "  <tbody>\n",
              "    <tr>\n",
              "      <th>0</th>\n",
              "      <td>2899</td>\n",
              "      <td>2011</td>\n",
              "      <td>190552.0</td>\n",
              "      <td>3</td>\n",
              "      <td>0</td>\n",
              "      <td>0</td>\n",
              "      <td>0</td>\n",
              "      <td>0</td>\n",
              "      <td>0</td>\n",
              "      <td>0</td>\n",
              "      <td>0</td>\n",
              "      <td>0</td>\n",
              "      <td>0</td>\n",
              "      <td>0</td>\n",
              "      <td>1</td>\n",
              "      <td>0</td>\n",
              "      <td>0</td>\n",
              "      <td>0</td>\n",
              "      <td>0</td>\n",
              "      <td>1</td>\n",
              "    </tr>\n",
              "    <tr>\n",
              "      <th>1</th>\n",
              "      <td>5350</td>\n",
              "      <td>2018</td>\n",
              "      <td>39590.0</td>\n",
              "      <td>2</td>\n",
              "      <td>0</td>\n",
              "      <td>1</td>\n",
              "      <td>0</td>\n",
              "      <td>0</td>\n",
              "      <td>0</td>\n",
              "      <td>0</td>\n",
              "      <td>0</td>\n",
              "      <td>0</td>\n",
              "      <td>0</td>\n",
              "      <td>0</td>\n",
              "      <td>1</td>\n",
              "      <td>0</td>\n",
              "      <td>0</td>\n",
              "      <td>1</td>\n",
              "      <td>0</td>\n",
              "      <td>0</td>\n",
              "    </tr>\n",
              "    <tr>\n",
              "      <th>2</th>\n",
              "      <td>25000</td>\n",
              "      <td>2014</td>\n",
              "      <td>64146.0</td>\n",
              "      <td>2</td>\n",
              "      <td>0</td>\n",
              "      <td>0</td>\n",
              "      <td>0</td>\n",
              "      <td>0</td>\n",
              "      <td>0</td>\n",
              "      <td>0</td>\n",
              "      <td>0</td>\n",
              "      <td>1</td>\n",
              "      <td>0</td>\n",
              "      <td>0</td>\n",
              "      <td>0</td>\n",
              "      <td>0</td>\n",
              "      <td>0</td>\n",
              "      <td>0</td>\n",
              "      <td>0</td>\n",
              "      <td>1</td>\n",
              "    </tr>\n",
              "    <tr>\n",
              "      <th>3</th>\n",
              "      <td>27700</td>\n",
              "      <td>2018</td>\n",
              "      <td>6654.0</td>\n",
              "      <td>3</td>\n",
              "      <td>1</td>\n",
              "      <td>0</td>\n",
              "      <td>0</td>\n",
              "      <td>0</td>\n",
              "      <td>0</td>\n",
              "      <td>0</td>\n",
              "      <td>0</td>\n",
              "      <td>0</td>\n",
              "      <td>0</td>\n",
              "      <td>0</td>\n",
              "      <td>0</td>\n",
              "      <td>0</td>\n",
              "      <td>0</td>\n",
              "      <td>0</td>\n",
              "      <td>1</td>\n",
              "      <td>0</td>\n",
              "    </tr>\n",
              "    <tr>\n",
              "      <th>4</th>\n",
              "      <td>5700</td>\n",
              "      <td>2018</td>\n",
              "      <td>45561.0</td>\n",
              "      <td>1</td>\n",
              "      <td>0</td>\n",
              "      <td>1</td>\n",
              "      <td>0</td>\n",
              "      <td>0</td>\n",
              "      <td>0</td>\n",
              "      <td>0</td>\n",
              "      <td>0</td>\n",
              "      <td>0</td>\n",
              "      <td>0</td>\n",
              "      <td>0</td>\n",
              "      <td>0</td>\n",
              "      <td>1</td>\n",
              "      <td>0</td>\n",
              "      <td>0</td>\n",
              "      <td>0</td>\n",
              "      <td>1</td>\n",
              "    </tr>\n",
              "  </tbody>\n",
              "</table>\n",
              "</div>"
            ],
            "text/plain": [
              "   price  year   mileage  AGE_IN_YEARS  chevrolet  dodge  gmc  jeep  nissan  \\\n",
              "0   2899  2011  190552.0             3          0      0    0     0       0   \n",
              "1   5350  2018   39590.0             2          0      1    0     0       0   \n",
              "2  25000  2014   64146.0             2          0      0    0     0       0   \n",
              "3  27700  2018    6654.0             3          1      0    0     0       0   \n",
              "4   5700  2018   45561.0             1          0      1    0     0       0   \n",
              "\n",
              "   salvage insurance  black  blue  gray  no_color  silver  white  Goa  MP  \\\n",
              "0                  0      0     0     0         0       1      0    0   0   \n",
              "1                  0      0     0     0         0       1      0    0   1   \n",
              "2                  0      0     1     0         0       0      0    0   0   \n",
              "3                  0      0     0     0         0       0      0    0   0   \n",
              "4                  0      0     0     0         0       0      1    0   0   \n",
              "\n",
              "   Maharashtra  UP  \n",
              "0            0   1  \n",
              "1            0   0  \n",
              "2            0   1  \n",
              "3            1   0  \n",
              "4            0   1  "
            ]
          },
          "metadata": {
            "tags": []
          },
          "execution_count": 42
        }
      ]
    },
    {
      "cell_type": "markdown",
      "metadata": {
        "id": "-ZcVR3RC9jU4"
      },
      "source": [
        "We will use the `train_test_split` function to split the data into TRAIN and TEST <br>\n",
        "Here we import it from SKLEARN"
      ]
    },
    {
      "cell_type": "code",
      "metadata": {
        "id": "di5Jh08_9jU4"
      },
      "source": [
        "from sklearn.model_selection import train_test_split"
      ],
      "execution_count": 43,
      "outputs": []
    },
    {
      "cell_type": "markdown",
      "metadata": {
        "id": "EaCNqptBnrts"
      },
      "source": [
        "If you don't know about Feature transformation, it is highly recommended to go through this blog before proceding<br>\n",
        "<a href=\"https://towardsdatascience.com/top-3-methods-for-handling-skewed-data-1334e0debf45\">Top 3 Methods for Handling Skewed data</a>\n",
        "#### TLDR; We wish that all our features have a normal distribution"
      ]
    },
    {
      "cell_type": "markdown",
      "metadata": {
        "id": "ll5Q2xCm9jU7"
      },
      "source": [
        "Let us look at the Distribution of `Price` column "
      ]
    },
    {
      "cell_type": "code",
      "metadata": {
        "id": "tHbZh4X7nrts",
        "colab": {
          "base_uri": "https://localhost:8080/",
          "height": 279
        },
        "outputId": "26d60fca-7b8b-4962-d70c-63d3e84c99d4"
      },
      "source": [
        "sns.histplot(x=data['price'], kde=True);"
      ],
      "execution_count": 44,
      "outputs": [
        {
          "output_type": "display_data",
          "data": {
            "image/png": "[encoded data removed]",
            "text/plain": [
              "<Figure size 432x288 with 1 Axes>"
            ]
          },
          "metadata": {
            "tags": [],
            "needs_background": "light"
          }
        }
      ]
    },
    {
      "cell_type": "markdown",
      "metadata": {
        "id": "jn6ZMkZd9jU_"
      },
      "source": [
        "It is RIGHT-SKEWED <br>\n",
        "We will either use log transform or sqrt transform"
      ]
    },
    {
      "cell_type": "code",
      "metadata": {
        "id": "nC13GB_f9jU_",
        "colab": {
          "base_uri": "https://localhost:8080/",
          "height": 573
        },
        "outputId": "45516a15-ac95-4ca5-a3ec-74482e8d066e"
      },
      "source": [
        "# WE HAVE WRITTEN THE CODE FOR PLOTTING THE HISTOGRAM FOR THE LOG-TRANSFORMED PRICE COLUMN AND SQRT TRANSFORMED SQRT COLUMN.\n",
        "sns.histplot(x=np.sqrt(data['price']), kde=True);\n",
        "plt.title('SQRT TRANSFORM');\n",
        "plt.show()\n",
        "sns.histplot(np.log(data['price']), kde=True);\n",
        "plt.title('LOG TRANSFORM');\n",
        "plt.show()"
      ],
      "execution_count": 45,
      "outputs": [
        {
          "output_type": "display_data",
          "data": {
            "image/png": "[encoded data removed]",
            "text/plain": [
              "<Figure size 432x288 with 1 Axes>"
            ]
          },
          "metadata": {
            "tags": [],
            "needs_background": "light"
          }
        },
        {
          "output_type": "display_data",
          "data": {
            "image/png": "[encoded data removed]",
            "text/plain": [
              "<Figure size 432x288 with 1 Axes>"
            ]
          },
          "metadata": {
            "tags": [],
            "needs_background": "light"
          }
        }
      ]
    },
    {
      "cell_type": "markdown",
      "metadata": {
        "id": "CIxuDmN89jVC"
      },
      "source": [
        "Clearly SQRT Transform is Better"
      ]
    },
    {
      "cell_type": "code",
      "metadata": {
        "colab": {
          "base_uri": "https://localhost:8080/",
          "height": 315
        },
        "id": "1u3T57csvFqy",
        "outputId": "41ce0e3b-6ea6-461b-d11c-187b5ba9ad8f"
      },
      "source": [
        "# kris: Additionally Checking Box-Cox Transformation\n",
        "from scipy import stats\n",
        "\n",
        "sns.histplot(stats.boxcox(data['price']), kde=True);\n",
        "plt.title('Box-Cox TRANSFORM');\n",
        "plt.show()"
      ],
      "execution_count": 46,
      "outputs": [
        {
          "output_type": "stream",
          "text": [
            "/usr/local/lib/python3.7/dist-packages/seaborn/distributions.py:306: UserWarning: Dataset has 0 variance; skipping density estimate.\n",
            "  warnings.warn(msg, UserWarning)\n"
          ],
          "name": "stderr"
        },
        {
          "output_type": "display_data",
          "data": {
            "image/png": "[encoded data removed]",
            "text/plain": [
              "<Figure size 432x288 with 1 Axes>"
            ]
          },
          "metadata": {
            "tags": [],
            "needs_background": "light"
          }
        }
      ]
    },
    {
      "cell_type": "code",
      "metadata": {
        "id": "ZEDTdMPP9jVC"
      },
      "source": [
        "# WE CONVERT PRICES TO THEIR SQRT AND ROUND OFF DECIMALS TO TWO\n",
        "data['price'] = round(np.sqrt(data['price']), 2)"
      ],
      "execution_count": 47,
      "outputs": []
    },
    {
      "cell_type": "code",
      "metadata": {
        "colab": {
          "base_uri": "https://localhost:8080/"
        },
        "id": "e5X-XXGgwlw4",
        "outputId": "f81900ee-e228-4976-a8da-d4197904906d"
      },
      "source": [
        "data['price']"
      ],
      "execution_count": 48,
      "outputs": [
        {
          "output_type": "execute_result",
          "data": {
            "text/plain": [
              "0        53.84\n",
              "1        73.14\n",
              "2       158.11\n",
              "3       166.43\n",
              "4        75.50\n",
              "         ...  \n",
              "2148     88.32\n",
              "2149     95.92\n",
              "2150     95.92\n",
              "2151     95.92\n",
              "2152     95.92\n",
              "Name: price, Length: 2153, dtype: float64"
            ]
          },
          "metadata": {
            "tags": []
          },
          "execution_count": 48
        }
      ]
    },
    {
      "cell_type": "code",
      "metadata": {
        "id": "DsRrd_c79jVG"
      },
      "source": [
        "# HERE WE SPLIT DATA INTO TRAIN TEST SPLIT\n",
        "X_train, X_test, y_train, y_test = train_test_split(data.drop('price',axis = 1), data['price'], \n",
        "                                                    test_size = 0.2, random_state = 1)"
      ],
      "execution_count": 49,
      "outputs": []
    },
    {
      "cell_type": "code",
      "metadata": {
        "id": "66Pr1G_89jVI",
        "colab": {
          "base_uri": "https://localhost:8080/"
        },
        "outputId": "c44d8370-88de-4f73-be54-ed9d238bfc67"
      },
      "source": [
        "# LET US PRINT THE SHAPES\n",
        "# Start Code\n",
        "print(X_train.shape) # Shape of X_train\n",
        "print(X_test.shape) # Shape of X_test\n",
        "print(y_train.shape) # Shape of y_train\n",
        "print(y_test.shape) # Shape of y_test\n",
        "# End Code\n",
        "\n",
        "\n",
        "print('\\nExpected shapes')\n",
        "print((1722, 19))\n",
        "print((431, 19))\n",
        "print((1722,))\n",
        "print((431,))\n",
        "print('\\nVerify if they are matching')"
      ],
      "execution_count": 50,
      "outputs": [
        {
          "output_type": "stream",
          "text": [
            "(1722, 19)\n",
            "(431, 19)\n",
            "(1722,)\n",
            "(431,)\n",
            "\n",
            "Expected shapes\n",
            "(1722, 19)\n",
            "(431, 19)\n",
            "(1722,)\n",
            "(431,)\n",
            "\n",
            "Verify if they are matching\n"
          ],
          "name": "stdout"
        }
      ]
    },
    {
      "cell_type": "markdown",
      "metadata": {
        "id": "MTbjksBn9jVK"
      },
      "source": [
        "<!-- NOW <br>\n",
        "LET US APPLY LINEAR REGRESSION ON THE DATA, THIS TIME WE WILL IMPORT IT FROM SKLEARN <br> -->\n",
        "### Linear Regression"
      ]
    },
    {
      "cell_type": "code",
      "metadata": {
        "id": "8sGwqgNznrtu"
      },
      "source": [
        "from sklearn.linear_model import LinearRegression\n",
        "from sklearn.metrics import mean_squared_error, mean_absolute_error"
      ],
      "execution_count": 51,
      "outputs": []
    },
    {
      "cell_type": "code",
      "metadata": {
        "id": "Qza5_BMn9jVK",
        "colab": {
          "base_uri": "https://localhost:8080/"
        },
        "outputId": "70aff0ab-8483-40d0-c40e-2d78d8a0e603"
      },
      "source": [
        "# INITIALIZE LINEAR REGRESSION WITH ALL DEFAULT PARAMETERS as Linreg\n",
        "# Start code\n",
        "\n",
        "# Seperating input and output features\n",
        "x=data.drop('price',axis = 1)\n",
        "y=data['price']\n",
        "\n",
        "# Split the data using test_size=20% and random_state=1\n",
        "X_train, X_test, y_train, y_test = train_test_split(x,y,test_size=0.2, random_state=1)\n",
        "\n",
        "# print to confirm the shape of train test\n",
        "print(X_train.shape, X_test.shape, y_train.shape, y_test.shape)\n",
        "\n",
        "# make it compatatable to pandas only used for single variables in X_train & X_test\n",
        "#X_train = X_train.reshape(-1,1)\n",
        "#X_test = X_test.reshape(-1,1)\n",
        "\n",
        "# End code\n",
        "\n",
        "\n",
        "# FIT the model on the training data i.e. (X_train, y_train)\n",
        "\n",
        "# Start Code\n",
        "Linreg = LinearRegression()\n",
        "Linreg.fit(X_train,y_train)\n",
        "# End Code\n",
        "\n",
        "\n",
        "# FIND TEST ERROR AND TRAIN ERROR WITH THE METRICS IMPORTED ABOVE\n",
        "# NOTE THAT WE HAVE SQUARED BACK THE VALUES AS WE ARE PREDICTING PRICES NOT THEIR SQUARE ROOT\n",
        "print(\"Linear Regression Training mean_square_error is \" + str(mean_squared_error(np.square(y_train), np.square(Linreg.predict(X_train)))))\n",
        "print(\"Linear Regression Testing mean_square_error is \" + str(mean_squared_error(np.square(y_test), np.square(Linreg.predict(X_test)))))\n",
        "\n",
        "\n",
        "# WRITE CODE FOR MEAN ABSOLUTE ERROR\n",
        "# Start code\n",
        "#print(\"Linear Regression Training mean_absolute_error is \" + str(mean_absolute_error(y_train, Linreg.predict(X_train))))\n",
        "#print(\"Linear Regression Testing mean_absolute_error is \" + str(mean_absolute_error(y_test, Linreg.predict(X_test))))\n",
        "\n",
        "print(\"Linear Regression Training mean_absolute_error is \" + str(mean_absolute_error(np.square(y_train), np.square(Linreg.predict(X_train)))))\n",
        "print(\"Linear Regression Testing mean_absolute_error is \" + str(mean_absolute_error(np.square(y_test), np.square(Linreg.predict(X_test)))))\n",
        "\n",
        "# End code\n",
        "\n",
        "\n",
        "print(\"\\n\")\n",
        "print(\"The correct values are :\")\n",
        "\n",
        "print('Linear Regression Training mean_square_error is 90997459.24037895')\n",
        "print('Linear Regression Testing mean_square_error is 93998879.06677727')\n",
        "print('Linear Regression Training mean_absolute_error is 6864.98050501778')\n",
        "print('Linear Regression Testing mean_absolute_error is 6926.987292556893')\n",
        "\n",
        "print(\"\\nPlease verify if you have got the same values\")"
      ],
      "execution_count": 52,
      "outputs": [
        {
          "output_type": "stream",
          "text": [
            "(1722, 19) (431, 19) (1722,) (431,)\n",
            "Linear Regression Training mean_square_error is 90997459.24037959\n",
            "Linear Regression Testing mean_square_error is 93998879.0667781\n",
            "Linear Regression Training mean_absolute_error is 6864.980505017776\n",
            "Linear Regression Testing mean_absolute_error is 6926.987292556892\n",
            "\n",
            "\n",
            "The correct values are :\n",
            "Linear Regression Training mean_square_error is 90997459.24037895\n",
            "Linear Regression Testing mean_square_error is 93998879.06677727\n",
            "Linear Regression Training mean_absolute_error is 6864.98050501778\n",
            "Linear Regression Testing mean_absolute_error is 6926.987292556893\n",
            "\n",
            "Please verify if you have got the same values\n"
          ],
          "name": "stdout"
        }
      ]
    },
    {
      "cell_type": "markdown",
      "metadata": {
        "id": "sUEvPws29jVW"
      },
      "source": [
        "### Now for CLASSIFICATION models, we need to convert the target variable into different classes"
      ]
    },
    {
      "cell_type": "code",
      "metadata": {
        "id": "5EwOs0dv9jVX",
        "colab": {
          "base_uri": "https://localhost:8080/"
        },
        "outputId": "820a61fe-30fd-418b-8047-05ff94a2dbd6"
      },
      "source": [
        "# WE FIND THE MEDIAN\n",
        "np.square(data['price']).describe()"
      ],
      "execution_count": 53,
      "outputs": [
        {
          "output_type": "execute_result",
          "data": {
            "text/plain": [
              "count     2153.000000\n",
              "mean     19298.257905\n",
              "std      11904.254199\n",
              "min         25.000000\n",
              "25%      10799.366400\n",
              "50%      17300.140900\n",
              "75%      26001.562500\n",
              "max      74000.320900\n",
              "Name: price, dtype: float64"
            ]
          },
          "metadata": {
            "tags": []
          },
          "execution_count": 53
        }
      ]
    },
    {
      "cell_type": "markdown",
      "metadata": {
        "id": "SxdlNAd49jVa"
      },
      "source": [
        "<!-- WE WILL DO BINARY CLASSIFICATION AND DIVIDE THE DATA EQUALLY(ALMOST) INTO 1's AND 0's <br>\n",
        "WE HAVE CHOSEN THRESHOLD AT price = 20000 -->\n",
        "##### We will do Binary Classification (i.e. Classify into 2 classes) and divide the data equally (ALMOST) into 1's and 0's <br>\n",
        "##### We have chosen threshold at PRICE = 20000"
      ]
    },
    {
      "cell_type": "code",
      "metadata": {
        "id": "waGj0igv9jVa"
      },
      "source": [
        "data.loc[np.square(data['price']) < 20000, 'price'] = 0\n",
        "data.loc[np.square(data['price']) >= 20000, 'price'] = 1"
      ],
      "execution_count": 62,
      "outputs": []
    },
    {
      "cell_type": "code",
      "metadata": {
        "id": "G4pCJ7pw9jVc",
        "colab": {
          "base_uri": "https://localhost:8080/"
        },
        "outputId": "d4afadd9-2215-45ee-e092-63b81c3e5e1c"
      },
      "source": [
        "# VIEWING THE DATA ONCE\n",
        "# Start code\n",
        "print(data[data['price'] == 0].shape)\n",
        "print(data[data['price'] == 1].shape)\n",
        "# End code"
      ],
      "execution_count": 68,
      "outputs": [
        {
          "output_type": "stream",
          "text": [
            "(1256, 20)\n",
            "(897, 20)\n"
          ],
          "name": "stdout"
        }
      ]
    },
    {
      "cell_type": "code",
      "metadata": {
        "id": "no82fZ4Y9jVf"
      },
      "source": [
        "X_train, X_test, y_train, y_test = train_test_split(data.drop('price',axis = 1), data['price'], \n",
        "                                                    test_size = 0.2,random_state = 1)"
      ],
      "execution_count": 69,
      "outputs": []
    },
    {
      "cell_type": "code",
      "metadata": {
        "colab": {
          "base_uri": "https://localhost:8080/"
        },
        "id": "INSqAwc-tDZd",
        "outputId": "a2c801bc-945f-463a-e36b-20b1d31bd310"
      },
      "source": [
        "# kris: print to confirm the shape of train test\n",
        "print(X_train.shape, X_test.shape, y_train.shape, y_test.shape)"
      ],
      "execution_count": 70,
      "outputs": [
        {
          "output_type": "stream",
          "text": [
            "(1722, 19) (431, 19) (1722,) (431,)\n"
          ],
          "name": "stdout"
        }
      ]
    },
    {
      "cell_type": "markdown",
      "metadata": {
        "id": "F7c7s6Tinrtw"
      },
      "source": [
        "### Logistic Regression"
      ]
    },
    {
      "cell_type": "code",
      "metadata": {
        "id": "CWKZZWms9jVh"
      },
      "source": [
        "from sklearn.linear_model import LogisticRegression\n",
        "from sklearn.metrics import accuracy_score"
      ],
      "execution_count": 71,
      "outputs": []
    },
    {
      "cell_type": "markdown",
      "metadata": {
        "id": "MLEeZkHWnrtw"
      },
      "source": [
        "#### Write Code here and find the Accuracy for LOGISTIC REGRESSION"
      ]
    },
    {
      "cell_type": "code",
      "metadata": {
        "id": "mWkYGoJZ9jVj",
        "colab": {
          "base_uri": "https://localhost:8080/"
        },
        "outputId": "a8074585-9c65-4dfe-cc17-a29dc27402bf"
      },
      "source": [
        "# INITIALIZE Logistic Regression BY TAKING solver as 'lbfgs', max_iter as 2000, random_state as 1 \n",
        "# START CODE\n",
        "Logreg = LogisticRegression(solver='lbfgs',max_iter=2000,random_state=1)\n",
        "# END CODE\n",
        "\n",
        " \n",
        "# FIT Logistic Regression ON TRAINING DATA i.e. (X_train, y_train)\n",
        "# START CODE\n",
        "Logreg.fit(X_train,y_train)\n",
        "# END CODE\n",
        "\n",
        "\n",
        "# Find the Training and Testing Error using the accuracy_score function imported above\n",
        "# START CODE\n",
        "print(\"Logistic Regression Training Accuracy \" + str(Logreg.score(X_train, y_train)))\n",
        "print(\"Logistic Regression Testing Accuracy \" + str(Logreg.score(X_test, y_test)))\n",
        "# END CODE\n",
        "\n",
        "\n",
        "print(\"\\n\")\n",
        "print(\"The correct values are :\")\n",
        "\n",
        "print(\"Logistic Regression Training Accuracy 0.7264808362369338\")\n",
        "print(\"Logistic Regression Testing Accuracy 0.7192575406032483\")\n",
        "\n",
        "print(\"\\nPlease verify if you have got the same values\")"
      ],
      "execution_count": 76,
      "outputs": [
        {
          "output_type": "stream",
          "text": [
            "Logistic Regression Training Accuracy 0.7264808362369338\n",
            "Logistic Regression Testing Accuracy 0.7192575406032483\n",
            "\n",
            "\n",
            "The correct values are :\n",
            "Logistic Regression Training Accuracy 0.7264808362369338\n",
            "Logistic Regression Testing Accuracy 0.7192575406032483\n",
            "\n",
            "Please verify if you have got the same values\n"
          ],
          "name": "stdout"
        }
      ]
    },
    {
      "cell_type": "code",
      "metadata": {
        "id": "Jjm_yyB9nrtx"
      },
      "source": [
        ""
      ],
      "execution_count": 19,
      "outputs": []
    }
  ]
}